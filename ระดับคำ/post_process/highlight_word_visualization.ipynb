{
 "cells": [
  {
   "cell_type": "code",
   "execution_count": 34,
   "metadata": {},
   "outputs": [
    {
     "name": "stdout",
     "output_type": "stream",
     "text": [
      "import OK\n"
     ]
    }
   ],
   "source": [
    "import pandas as pd\n",
    "import numpy as np\n",
    "import html\n",
    "import random\n",
    "from IPython.core.display import display, HTML\n",
    "print(\"import OK\")"
   ]
  },
  {
   "cell_type": "code",
   "execution_count": 35,
   "metadata": {},
   "outputs": [
    {
     "name": "stdout",
     "output_type": "stream",
     "text": [
      "Tatol_Frame: 6\n"
     ]
    }
   ],
   "source": [
    "import json\n",
    "\n",
    "my_file = open(\"result_to_post process.json\",'r',encoding = 'utf-8-sig')\n",
    "txt = my_file.read()\n",
    "\n",
    "json_obj = json.loads(txt)\n",
    "\n",
    "question_id = \"14005\"\n",
    "frame_id = 1\n",
    "print(\"Tatol_Frame:\",len(json_obj[\"14005\"][\"frame_data\"]))\n",
    "#json_obj[*question_id*]\n",
    "#print(json_obj[\"14002\"])\n",
    "\n",
    "#json_obj[*question_id*][\"frame_data\"][*index ของ frame นั้นๆ*]\n",
    "#print(json_obj[\"14005\"][\"frame_data\"][1])\n",
    "\n",
    "# [1, '<doc id=\"', '0.00021539831', '0.0', ['PUNCT', 'O'], 'PUNC'] อันนี้คือ 1 คำ\n",
    "# format คือ แบบนี้\n",
    "# [ตำแหน่งเริ่มของคำ , คำ , ค่าที่ได้จากmodel , ground truth , Name entity , Part of speech]"
   ]
  },
  {
   "cell_type": "code",
   "execution_count": 36,
   "metadata": {},
   "outputs": [],
   "source": [
    "#predict\n",
    "max_alpha = 1.0\n",
    "highlighted_text = []\n",
    "for word in json_obj[question_id][\"frame_data\"][frame_id]:\n",
    "    weight = float(word[2])\n",
    "    if weight is not None:\n",
    "        highlighted_text.append('<span style=\"background-color:rgba(135,206,250,' + str(weight / max_alpha) + ');\">' + word[1] + '</span>')\n",
    "    else:\n",
    "        highlighted_text.append(word)\n",
    "highlighted_text = ' '.join(highlighted_text)\n",
    "#highlighted_text"
   ]
  },
  {
   "cell_type": "code",
   "execution_count": 37,
   "metadata": {},
   "outputs": [
    {
     "data": {
      "text/html": [
       "<span style=\"background-color:rgba(135,206,250,0.0040009012);\">กัน</span> <span style=\"background-color:rgba(135,206,250,0.0003663431);\"> </span> <span style=\"background-color:rgba(135,206,250,0.0013000203);\">โดย</span> <span style=\"background-color:rgba(135,206,250,0.001984979);\">ช่อง</span> <span style=\"background-color:rgba(135,206,250,0.0006858462);\">แคบ</span> <span style=\"background-color:rgba(135,206,250,0.00031435525);\">มี</span> <span style=\"background-color:rgba(135,206,250,6.4955035e-05);\">ความ</span> <span style=\"background-color:rgba(135,206,250,0.00021698551);\">ยาว</span> <span style=\"background-color:rgba(135,206,250,0.0011298637);\">ประมาณ</span> <span style=\"background-color:rgba(135,206,250,0.0033535454);\"> </span> <span style=\"background-color:rgba(135,206,250,0.13368018);\">560</span> <span style=\"background-color:rgba(135,206,250,0.07032324);\"> </span> <span style=\"background-color:rgba(135,206,250,0.13074324);\">กิโลเมตร</span> <span style=\"background-color:rgba(135,206,250,0.003660822);\"> </span> <span style=\"background-color:rgba(135,206,250,0.0014855879);\">และ</span> <span style=\"background-color:rgba(135,206,250,0.000523914);\">มี</span> <span style=\"background-color:rgba(135,206,250,0.0006970163);\">ความ</span> <span style=\"background-color:rgba(135,206,250,0.007261771);\">กว้าง</span> <span style=\"background-color:rgba(135,206,250,0.003750684);\">ที่</span> <span style=\"background-color:rgba(135,206,250,0.0020738868);\">แตกต่าง</span> <span style=\"background-color:rgba(135,206,250,0.0023474);\">กัน</span> <span style=\"background-color:rgba(135,206,250,0.0065380936);\">ระหว่าง</span> <span style=\"background-color:rgba(135,206,250,0.0145858675);\"> </span> <span style=\"background-color:rgba(135,206,250,0.13877633);\">240</span> <span style=\"background-color:rgba(135,206,250,0.04128363);\"> </span> <span style=\"background-color:rgba(135,206,250,0.027199458);\">กิโลเมตร</span> <span style=\"background-color:rgba(135,206,250,0.0022581469);\">ซึ่ง</span> <span style=\"background-color:rgba(135,206,250,0.003268678);\">กว้าง</span> <span style=\"background-color:rgba(135,206,250,0.002677204);\">ที่สุด</span> <span style=\"background-color:rgba(135,206,250,0.00021528025);\"> </span> <span style=\"background-color:rgba(135,206,250,0.0003198869);\">จน</span> <span style=\"background-color:rgba(135,206,250,0.00026726027);\">ไป</span> <span style=\"background-color:rgba(135,206,250,0.00018409676);\">ถึง</span> <span style=\"background-color:rgba(135,206,250,0.00064753584);\">ส่วน</span> <span style=\"background-color:rgba(135,206,250,0.0060775136);\">ที่</span> <span style=\"background-color:rgba(135,206,250,0.014975695);\">แคบ</span> <span style=\"background-color:rgba(135,206,250,0.0017049506);\">ที่สุด</span> <span style=\"background-color:rgba(135,206,250,0.0041483706);\">ที่</span> <span style=\"background-color:rgba(135,206,250,0.0010638301);\">มี</span> <span style=\"background-color:rgba(135,206,250,0.0040546674);\">ความ</span> <span style=\"background-color:rgba(135,206,250,0.02457095);\">กว้าง</span> <span style=\"background-color:rgba(135,206,250,0.02298276);\">เพียง</span> <span style=\"background-color:rgba(135,206,250,0.101814575);\"> </span> <span style=\"background-color:rgba(135,206,250,0.61413324);\">34</span> <span style=\"background-color:rgba(135,206,250,0.2794782);\"> </span> <span style=\"background-color:rgba(135,206,250,0.16169438);\">กิโลเมตร</span> <span style=\"background-color:rgba(135,206,250,0.32206115);\">บริเวณ</span> <span style=\"background-color:rgba(135,206,250,0.41072944);\">ช่องแคบโดเวอร์</span> <span style=\"background-color:rgba(135,206,250,0.019738905);\"> </span> <span style=\"background-color:rgba(135,206,250,0.011789331);\">ช่อง</span> <span style=\"background-color:rgba(135,206,250,0.009190407);\">แคบ</span> <span style=\"background-color:rgba(135,206,250,0.008088667);\">อังกฤษ</span> <span style=\"background-color:rgba(135,206,250,0.00028597837);\">ถือ</span> <span style=\"background-color:rgba(135,206,250,0.00034673917);\">เป็น</span> <span style=\"background-color:rgba(135,206,250,0.010212509);\">ทะเล</span> <span style=\"background-color:rgba(135,206,250,0.04622254);\">น้ำ</span> <span style=\"background-color:rgba(135,206,250,0.026025575);\">ตื้นที่</span> <span style=\"background-color:rgba(135,206,250,0.015087359);\">เล็ก</span> <span style=\"background-color:rgba(135,206,250,0.002784973);\">ที่สุด</span> <span style=\"background-color:rgba(135,206,250,0.0006506726);\">ใน</span> <span style=\"background-color:rgba(135,206,250,0.004189618);\">บริเวณ</span> <span style=\"background-color:rgba(135,206,250,0.11639931);\">ไหล่</span> <span style=\"background-color:rgba(135,206,250,0.17902645);\">ทวีปยุโรป</span> <span style=\"background-color:rgba(135,206,250,0.0014796639);\"> </span> <span style=\"background-color:rgba(135,206,250,0.0009251613);\">โดย</span> <span style=\"background-color:rgba(135,206,250,0.0020546624);\">ครอบคลุม</span> <span style=\"background-color:rgba(135,206,250,0.00035218586);\">พื้นที่</span> <span style=\"background-color:rgba(135,206,250,0.00018869182);\">เพียง</span> <span style=\"background-color:rgba(135,206,250,0.0002380462);\"> </span> <span style=\"background-color:rgba(135,206,250,0.0061389273);\">75</span> <span style=\"background-color:rgba(135,206,250,0.008343172);\">,</span> <span style=\"background-color:rgba(135,206,250,0.0134666795);\">000</span> <span style=\"background-color:rgba(135,206,250,0.0024370977);\"> </span> <span style=\"background-color:rgba(135,206,250,0.0024049697);\">ตาราง</span> <span style=\"background-color:rgba(135,206,250,0.0037628124);\">กิโลเมตร</span> <span style=\"background-color:rgba(135,206,250,0.00016621382);\"> </span> <span style=\"background-color:rgba(135,206,250,4.4816392e-05);\">เท่า</span> <span style=\"background-color:rgba(135,206,250,3.9293354e-05);\">นั้น</span> <span style=\"background-color:rgba(135,206,250,1.0332948e-05);\">ลักษณะ</span> <span style=\"background-color:rgba(135,206,250,0.00010292668);\">ทาง</span> <span style=\"background-color:rgba(135,206,250,0.00039252327);\">ภูมิศาสตร์</span> <span style=\"background-color:rgba(135,206,250,0.00012675999);\"> </span> <span style=\"background-color:rgba(135,206,250,0.00020266225);\">ลักษณะ</span> <span style=\"background-color:rgba(135,206,250,1.6797838e-05);\">ทาง</span> <span style=\"background-color:rgba(135,206,250,8.4432995e-06);\">ภูมิศาสตร์</span> <span style=\"background-color:rgba(135,206,250,1.0673745e-05);\">.</span> <span style=\"background-color:rgba(135,206,250,6.32657e-06);\"> </span> <span style=\"background-color:rgba(135,206,250,8.601632e-05);\">ส่วน</span> <span style=\"background-color:rgba(135,206,250,1.7321996e-05);\">ใหญ่</span> <span style=\"background-color:rgba(135,206,250,1.3490382e-05);\">แล้ว</span> <span style=\"background-color:rgba(135,206,250,3.2420412e-06);\"> </span> <span style=\"background-color:rgba(135,206,250,1.2198666e-05);\">ความ</span> <span style=\"background-color:rgba(135,206,250,2.7010716e-05);\">ยาว</span> <span style=\"background-color:rgba(135,206,250,2.3875555e-05);\">ของ</span> <span style=\"background-color:rgba(135,206,250,0.0003520588);\">ช่อง</span> <span style=\"background-color:rgba(135,206,250,0.00015130154);\">แคบ</span> <span style=\"background-color:rgba(135,206,250,7.231555e-05);\">มัก</span> <span style=\"background-color:rgba(135,206,250,1.3872162e-05);\">ถูก</span> <span style=\"background-color:rgba(135,206,250,2.577346e-06);\">กำหนด</span> <span style=\"background-color:rgba(135,206,250,2.749487e-06);\">ให้</span> <span style=\"background-color:rgba(135,206,250,8.07397e-06);\">เริ่ม</span> <span style=\"background-color:rgba(135,206,250,2.1308932e-05);\">ตั้งแต่</span> <span style=\"background-color:rgba(135,206,250,0.0013777287);\">แลนด์สเอนด์</span> <span style=\"background-color:rgba(135,206,250,0.0012649766);\">และ</span> <span style=\"background-color:rgba(135,206,250,0.0013215931);\">เกาะอูชง</span> <span style=\"background-color:rgba(135,206,250,8.979169e-05);\">ที่</span> <span style=\"background-color:rgba(135,206,250,9.424032e-06);\">อยู่</span> <span style=\"background-color:rgba(135,206,250,6.959919e-06);\">ตรง</span> <span style=\"background-color:rgba(135,206,250,9.1248985e-05);\">สุด</span> <span style=\"background-color:rgba(135,206,250,0.00067330344);\">ช่อง</span> <span style=\"background-color:rgba(135,206,250,0.0008080209);\">แคบ</span> <span style=\"background-color:rgba(135,206,250,0.00073105143);\">ฝั่ง</span> <span style=\"background-color:rgba(135,206,250,0.000622286);\">ตะวัน</span> <span style=\"background-color:rgba(135,206,250,0.00031799922);\">ตก</span> <span style=\"background-color:rgba(135,206,250,4.0961593e-05);\"> </span> <span style=\"background-color:rgba(135,206,250,5.5466753e-06);\">ไป</span> <span style=\"background-color:rgba(135,206,250,1.6043685e-05);\">จน</span> <span style=\"background-color:rgba(135,206,250,2.1280399e-05);\">ถึง</span> <span style=\"background-color:rgba(135,206,250,0.0031098418);\">ช่อง</span> <span style=\"background-color:rgba(135,206,250,0.0040624444);\">แคบ</span> <span style=\"background-color:rgba(135,206,250,0.001576026);\">โดเวอร์</span> <span style=\"background-color:rgba(135,206,250,0.00011543763);\">ที่</span> <span style=\"background-color:rgba(135,206,250,5.0774852e-05);\">อยู่</span> <span style=\"background-color:rgba(135,206,250,0.00010896027);\">สุด</span> <span style=\"background-color:rgba(135,206,250,0.00034568878);\">ฝั่ง</span> <span style=\"background-color:rgba(135,206,250,0.0007337393);\">ตะวัน</span> <span style=\"background-color:rgba(135,206,250,0.0016989455);\">ออก</span>"
      ],
      "text/plain": [
       "<IPython.core.display.HTML object>"
      ]
     },
     "metadata": {},
     "output_type": "display_data"
    }
   ],
   "source": [
    "display(HTML(highlighted_text))"
   ]
  },
  {
   "cell_type": "code",
   "execution_count": 38,
   "metadata": {},
   "outputs": [],
   "source": [
    "#GT\n",
    "max_alpha = 1.0\n",
    "highlighted_text = []\n",
    "for word in json_obj[question_id][\"frame_data\"][frame_id]:\n",
    "    weight = float(word[3])\n",
    "    if weight is not None:\n",
    "        highlighted_text.append('<span style=\"background-color:rgba(135,206,250,' + str(weight / max_alpha) + ');\">' + word[1] + '</span>')\n",
    "    else:\n",
    "        highlighted_text.append(word)\n",
    "highlighted_text = ' '.join(highlighted_text)\n",
    "#highlighted_text"
   ]
  },
  {
   "cell_type": "code",
   "execution_count": 39,
   "metadata": {},
   "outputs": [
    {
     "data": {
      "text/html": [
       "<span style=\"background-color:rgba(135,206,250,0.0);\">กัน</span> <span style=\"background-color:rgba(135,206,250,0.0);\"> </span> <span style=\"background-color:rgba(135,206,250,0.0);\">โดย</span> <span style=\"background-color:rgba(135,206,250,0.0);\">ช่อง</span> <span style=\"background-color:rgba(135,206,250,0.0);\">แคบ</span> <span style=\"background-color:rgba(135,206,250,0.0);\">มี</span> <span style=\"background-color:rgba(135,206,250,0.0);\">ความ</span> <span style=\"background-color:rgba(135,206,250,0.0);\">ยาว</span> <span style=\"background-color:rgba(135,206,250,0.0);\">ประมาณ</span> <span style=\"background-color:rgba(135,206,250,0.0);\"> </span> <span style=\"background-color:rgba(135,206,250,0.0);\">560</span> <span style=\"background-color:rgba(135,206,250,0.0);\"> </span> <span style=\"background-color:rgba(135,206,250,0.0);\">กิโลเมตร</span> <span style=\"background-color:rgba(135,206,250,0.0);\"> </span> <span style=\"background-color:rgba(135,206,250,0.0);\">และ</span> <span style=\"background-color:rgba(135,206,250,0.0);\">มี</span> <span style=\"background-color:rgba(135,206,250,0.0);\">ความ</span> <span style=\"background-color:rgba(135,206,250,0.0);\">กว้าง</span> <span style=\"background-color:rgba(135,206,250,0.0);\">ที่</span> <span style=\"background-color:rgba(135,206,250,0.0);\">แตกต่าง</span> <span style=\"background-color:rgba(135,206,250,0.0);\">กัน</span> <span style=\"background-color:rgba(135,206,250,0.0);\">ระหว่าง</span> <span style=\"background-color:rgba(135,206,250,0.0);\"> </span> <span style=\"background-color:rgba(135,206,250,0.0);\">240</span> <span style=\"background-color:rgba(135,206,250,0.0);\"> </span> <span style=\"background-color:rgba(135,206,250,0.0);\">กิโลเมตร</span> <span style=\"background-color:rgba(135,206,250,0.0);\">ซึ่ง</span> <span style=\"background-color:rgba(135,206,250,0.0);\">กว้าง</span> <span style=\"background-color:rgba(135,206,250,0.0);\">ที่สุด</span> <span style=\"background-color:rgba(135,206,250,0.0);\"> </span> <span style=\"background-color:rgba(135,206,250,0.0);\">จน</span> <span style=\"background-color:rgba(135,206,250,0.0);\">ไป</span> <span style=\"background-color:rgba(135,206,250,0.0);\">ถึง</span> <span style=\"background-color:rgba(135,206,250,0.0);\">ส่วน</span> <span style=\"background-color:rgba(135,206,250,0.0);\">ที่</span> <span style=\"background-color:rgba(135,206,250,0.0);\">แคบ</span> <span style=\"background-color:rgba(135,206,250,0.0);\">ที่สุด</span> <span style=\"background-color:rgba(135,206,250,0.0);\">ที่</span> <span style=\"background-color:rgba(135,206,250,0.0);\">มี</span> <span style=\"background-color:rgba(135,206,250,0.0);\">ความ</span> <span style=\"background-color:rgba(135,206,250,0.0);\">กว้าง</span> <span style=\"background-color:rgba(135,206,250,0.0);\">เพียง</span> <span style=\"background-color:rgba(135,206,250,0.0);\"> </span> <span style=\"background-color:rgba(135,206,250,1.0);\">34</span> <span style=\"background-color:rgba(135,206,250,0.0);\"> </span> <span style=\"background-color:rgba(135,206,250,0.0);\">กิโลเมตร</span> <span style=\"background-color:rgba(135,206,250,0.0);\">บริเวณ</span> <span style=\"background-color:rgba(135,206,250,0.0);\">ช่องแคบโดเวอร์</span> <span style=\"background-color:rgba(135,206,250,0.0);\"> </span> <span style=\"background-color:rgba(135,206,250,0.0);\">ช่อง</span> <span style=\"background-color:rgba(135,206,250,0.0);\">แคบ</span> <span style=\"background-color:rgba(135,206,250,0.0);\">อังกฤษ</span> <span style=\"background-color:rgba(135,206,250,0.0);\">ถือ</span> <span style=\"background-color:rgba(135,206,250,0.0);\">เป็น</span> <span style=\"background-color:rgba(135,206,250,0.0);\">ทะเล</span> <span style=\"background-color:rgba(135,206,250,0.0);\">น้ำ</span> <span style=\"background-color:rgba(135,206,250,0.0);\">ตื้นที่</span> <span style=\"background-color:rgba(135,206,250,0.0);\">เล็ก</span> <span style=\"background-color:rgba(135,206,250,0.0);\">ที่สุด</span> <span style=\"background-color:rgba(135,206,250,0.0);\">ใน</span> <span style=\"background-color:rgba(135,206,250,0.0);\">บริเวณ</span> <span style=\"background-color:rgba(135,206,250,0.0);\">ไหล่</span> <span style=\"background-color:rgba(135,206,250,0.0);\">ทวีปยุโรป</span> <span style=\"background-color:rgba(135,206,250,0.0);\"> </span> <span style=\"background-color:rgba(135,206,250,0.0);\">โดย</span> <span style=\"background-color:rgba(135,206,250,0.0);\">ครอบคลุม</span> <span style=\"background-color:rgba(135,206,250,0.0);\">พื้นที่</span> <span style=\"background-color:rgba(135,206,250,0.0);\">เพียง</span> <span style=\"background-color:rgba(135,206,250,0.0);\"> </span> <span style=\"background-color:rgba(135,206,250,0.0);\">75</span> <span style=\"background-color:rgba(135,206,250,0.0);\">,</span> <span style=\"background-color:rgba(135,206,250,0.0);\">000</span> <span style=\"background-color:rgba(135,206,250,0.0);\"> </span> <span style=\"background-color:rgba(135,206,250,0.0);\">ตาราง</span> <span style=\"background-color:rgba(135,206,250,0.0);\">กิโลเมตร</span> <span style=\"background-color:rgba(135,206,250,0.0);\"> </span> <span style=\"background-color:rgba(135,206,250,0.0);\">เท่า</span> <span style=\"background-color:rgba(135,206,250,0.0);\">นั้น</span> <span style=\"background-color:rgba(135,206,250,0.0);\">ลักษณะ</span> <span style=\"background-color:rgba(135,206,250,0.0);\">ทาง</span> <span style=\"background-color:rgba(135,206,250,0.0);\">ภูมิศาสตร์</span> <span style=\"background-color:rgba(135,206,250,0.0);\"> </span> <span style=\"background-color:rgba(135,206,250,0.0);\">ลักษณะ</span> <span style=\"background-color:rgba(135,206,250,0.0);\">ทาง</span> <span style=\"background-color:rgba(135,206,250,0.0);\">ภูมิศาสตร์</span> <span style=\"background-color:rgba(135,206,250,0.0);\">.</span> <span style=\"background-color:rgba(135,206,250,0.0);\"> </span> <span style=\"background-color:rgba(135,206,250,0.0);\">ส่วน</span> <span style=\"background-color:rgba(135,206,250,0.0);\">ใหญ่</span> <span style=\"background-color:rgba(135,206,250,0.0);\">แล้ว</span> <span style=\"background-color:rgba(135,206,250,0.0);\"> </span> <span style=\"background-color:rgba(135,206,250,0.0);\">ความ</span> <span style=\"background-color:rgba(135,206,250,0.0);\">ยาว</span> <span style=\"background-color:rgba(135,206,250,0.0);\">ของ</span> <span style=\"background-color:rgba(135,206,250,0.0);\">ช่อง</span> <span style=\"background-color:rgba(135,206,250,0.0);\">แคบ</span> <span style=\"background-color:rgba(135,206,250,0.0);\">มัก</span> <span style=\"background-color:rgba(135,206,250,0.0);\">ถูก</span> <span style=\"background-color:rgba(135,206,250,0.0);\">กำหนด</span> <span style=\"background-color:rgba(135,206,250,0.0);\">ให้</span> <span style=\"background-color:rgba(135,206,250,0.0);\">เริ่ม</span> <span style=\"background-color:rgba(135,206,250,0.0);\">ตั้งแต่</span> <span style=\"background-color:rgba(135,206,250,0.0);\">แลนด์สเอนด์</span> <span style=\"background-color:rgba(135,206,250,0.0);\">และ</span> <span style=\"background-color:rgba(135,206,250,0.0);\">เกาะอูชง</span> <span style=\"background-color:rgba(135,206,250,0.0);\">ที่</span> <span style=\"background-color:rgba(135,206,250,0.0);\">อยู่</span> <span style=\"background-color:rgba(135,206,250,0.0);\">ตรง</span> <span style=\"background-color:rgba(135,206,250,0.0);\">สุด</span> <span style=\"background-color:rgba(135,206,250,0.0);\">ช่อง</span> <span style=\"background-color:rgba(135,206,250,0.0);\">แคบ</span> <span style=\"background-color:rgba(135,206,250,0.0);\">ฝั่ง</span> <span style=\"background-color:rgba(135,206,250,0.0);\">ตะวัน</span> <span style=\"background-color:rgba(135,206,250,0.0);\">ตก</span> <span style=\"background-color:rgba(135,206,250,0.0);\"> </span> <span style=\"background-color:rgba(135,206,250,0.0);\">ไป</span> <span style=\"background-color:rgba(135,206,250,0.0);\">จน</span> <span style=\"background-color:rgba(135,206,250,0.0);\">ถึง</span> <span style=\"background-color:rgba(135,206,250,0.0);\">ช่อง</span> <span style=\"background-color:rgba(135,206,250,0.0);\">แคบ</span> <span style=\"background-color:rgba(135,206,250,0.0);\">โดเวอร์</span> <span style=\"background-color:rgba(135,206,250,0.0);\">ที่</span> <span style=\"background-color:rgba(135,206,250,0.0);\">อยู่</span> <span style=\"background-color:rgba(135,206,250,0.0);\">สุด</span> <span style=\"background-color:rgba(135,206,250,0.0);\">ฝั่ง</span> <span style=\"background-color:rgba(135,206,250,0.0);\">ตะวัน</span> <span style=\"background-color:rgba(135,206,250,0.0);\">ออก</span>"
      ],
      "text/plain": [
       "<IPython.core.display.HTML object>"
      ]
     },
     "metadata": {},
     "output_type": "display_data"
    }
   ],
   "source": [
    "display(HTML(highlighted_text))"
   ]
  },
  {
   "cell_type": "code",
   "execution_count": null,
   "metadata": {},
   "outputs": [],
   "source": []
  }
 ],
 "metadata": {
  "kernelspec": {
   "display_name": "Python 3",
   "language": "python",
   "name": "python3"
  },
  "language_info": {
   "codemirror_mode": {
    "name": "ipython",
    "version": 3
   },
   "file_extension": ".py",
   "mimetype": "text/x-python",
   "name": "python",
   "nbconvert_exporter": "python",
   "pygments_lexer": "ipython3",
   "version": "3.6.5"
  }
 },
 "nbformat": 4,
 "nbformat_minor": 2
}
